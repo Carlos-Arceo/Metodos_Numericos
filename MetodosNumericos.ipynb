{
 "cells": [
  {
   "cell_type": "code",
   "execution_count": 5,
   "id": "communist-trigger",
   "metadata": {},
   "outputs": [],
   "source": [
    "#(SISTEMAS COMPUTACIONALES 4A)\n",
    "\n",
    "#INTEGRANTES DEL EQUIPO:\n",
    "\n",
    "    #UUH ARCEO CARLOS MANUEL |19070065\n",
    "    #KANTUN TUZ JEENRI RIQUELME |19070031\n",
    "    #CAB PEÑA ADRIÁN ARTURO |19070059"
   ]
  },
  {
   "cell_type": "code",
   "execution_count": 26,
   "id": "changed-frank",
   "metadata": {},
   "outputs": [
    {
     "name": "stdout",
     "output_type": "stream",
     "text": [
      "x: 2\n",
      "n: 8\n",
      "\n",
      "e^2.0 = 7.3809523809523805\n"
     ]
    }
   ],
   "source": [
    "# FUNCION EXPONENCIAL\n",
    "\n",
    "import math\n",
    "\n",
    "#Funcion\n",
    "def solucion_exponencial(x,n):\n",
    "    suma=0\n",
    "    for j in range(0,int(n)):\n",
    "        suma += pow(x,j) / math.factorial(j)\n",
    "    return (suma)\n",
    "\n",
    "\n",
    "#Entrada de datos\n",
    "x = float(input(\"x: \"))\n",
    "n = float(input(\"n: \"))\n",
    "\n",
    "\n",
    "#Salidad de datos\n",
    "print()\n",
    "print(\"e^\"+str(x)+\" =\",str(solucion_exponencial(x,n)))"
   ]
  },
  {
   "cell_type": "code",
   "execution_count": 22,
   "id": "complete-migration",
   "metadata": {},
   "outputs": [
    {
     "name": "stdout",
     "output_type": "stream",
     "text": [
      "a: 1\n",
      "b: -5\n",
      "c: 6\n",
      "\n",
      "ECUACION: 1.0^2 + -5.0x + 6.0 = 0\n",
      "\n",
      "Metodo 1 (Solucion):  ('x1= 3.0', 'x2= 2.0')\n",
      "Metodo 2 (Solucion):  x= 3.0\n",
      "Metodo 3 (Solucion):  x= 2.0\n"
     ]
    }
   ],
   "source": [
    "#ECUACION CUADRATICA\n",
    "\n",
    "from math import sqrt\n",
    "\n",
    "#Funciones\n",
    "def metodo_uno(a,b,c):\n",
    "    discriminante = b**2 - 4*a*c\n",
    "    if discriminante > 0:\n",
    "        x1 = (-b + sqrt(pow(b,2) - 4*a*c)) / (2*a)\n",
    "        x2 = (-b - sqrt(pow(b,2) - 4*a*c)) / (2*a)\n",
    "        return \"x1= \"+str(round(x1,4)),\"x2= \"+str(round(x2,4))\n",
    "    elif discriminante == 0:\n",
    "        x1 = -b / (2*a)\n",
    "        return \"x= \"+str(round(x1,4))\n",
    "    else:\n",
    "        return \"Sin solucion\"\n",
    "    \n",
    "\n",
    "def metodo_dos(a,b,c):\n",
    "    discriminante = b**2 - 4*a*c\n",
    "    if discriminante > 0:\n",
    "        x1 = (-2*c) / (b+sqrt(pow(b,2)-4*a*c))\n",
    "        return \"x= \"+str(round(x1,4))\n",
    "    elif discriminante == 0:\n",
    "        x1 = (-2*c) / (b+sqrt(pow(b,2)-4*a*c))\n",
    "        return \"x= \"+str(round(x1,4))\n",
    "    else:\n",
    "        return \"Sin solucion\"\n",
    "    \n",
    "def metodo_tres(a,b,c):\n",
    "    discriminante = b**2 - 4*a*c\n",
    "    if discriminante > 0:\n",
    "        x2 = (-2*c) / (b-sqrt(pow(b,2)-4*a*c))\n",
    "        return \"x= \"+str(round(x2,4))\n",
    "    elif discriminante == 0:\n",
    "        x2 = (-2*c) / (b-sqrt(pow(b,2)-4*a*c))\n",
    "        return \"x= \"+str(round(x2,4))\n",
    "    else:\n",
    "        return \"Sin solucion\"\n",
    "    \n",
    "    \n",
    "#Entrada de datos\n",
    "a = float(input(\"a: \"))\n",
    "b = float(input(\"b: \"))\n",
    "c = float(input(\"c: \"))\n",
    "\n",
    "\n",
    "#Salida de datos\n",
    "print()\n",
    "print(\"ECUACION: \"+str(a)+\"^2 + \"+str(b)+\"x + \"+str(c)+\" = 0\")\n",
    "print()\n",
    "print(\"Metodo 1 (Solucion): \",metodo_uno(a,b,c))\n",
    "print(\"Metodo 2 (Solucion): \",metodo_dos(a,b,c))\n",
    "print(\"Metodo 3 (Solucion): \",metodo_tres(a,b,c))"
   ]
  }
 ],
 "metadata": {
  "kernelspec": {
   "display_name": "Python 3",
   "language": "python",
   "name": "python3"
  },
  "language_info": {
   "codemirror_mode": {
    "name": "ipython",
    "version": 3
   },
   "file_extension": ".py",
   "mimetype": "text/x-python",
   "name": "python",
   "nbconvert_exporter": "python",
   "pygments_lexer": "ipython3",
   "version": "3.9.2"
  }
 },
 "nbformat": 4,
 "nbformat_minor": 5
}
